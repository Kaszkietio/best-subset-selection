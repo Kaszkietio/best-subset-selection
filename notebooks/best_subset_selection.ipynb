{
 "cells": [
  {
   "cell_type": "code",
   "execution_count": null,
   "id": "9fbabd7e",
   "metadata": {},
   "outputs": [],
   "source": [
    "import gurobipy as gp\n",
    "from gurobipy import GRB"
   ]
  },
  {
   "cell_type": "code",
   "execution_count": null,
   "id": "de9aaa58",
   "metadata": {},
   "outputs": [],
   "source": [
    "model = gp.Model(\"test\")\n",
    "x = model.addVar(name=\"x\", vtype=gp.GRB.CONTINUOUS)\n",
    "y = model.addVar(name=\"y\", vtype=gp.GRB.CONTINUOUS)\n",
    "model.setObjective(40*x + 30*y, gp.GRB.MAXIMIZE)\n",
    "model.addConstr(2*x + y <= 100, name=\"c1\")\n",
    "model.addConstr(x + 2*y <= 80, name=\"c2\")"
   ]
  },
  {
   "cell_type": "code",
   "execution_count": null,
   "id": "8aecf725",
   "metadata": {},
   "outputs": [],
   "source": [
    "model.optimize()"
   ]
  },
  {
   "cell_type": "code",
   "execution_count": null,
   "id": "2d609dbc",
   "metadata": {},
   "outputs": [],
   "source": [
    "if model.Status == GRB.OPTIMAL:\n",
    "    print(f\"Optimal objective value: {model.ObjVal}\")\n",
    "    print(f\"x: {x.X}, y: {y.X}\")"
   ]
  }
 ],
 "metadata": {
  "kernelspec": {
   "display_name": ".venv",
   "language": "python",
   "name": "python3"
  },
  "language_info": {
   "codemirror_mode": {
    "name": "ipython",
    "version": 3
   },
   "file_extension": ".py",
   "mimetype": "text/x-python",
   "name": "python",
   "nbconvert_exporter": "python",
   "pygments_lexer": "ipython3",
   "version": "3.11.3"
  }
 },
 "nbformat": 4,
 "nbformat_minor": 5
}
