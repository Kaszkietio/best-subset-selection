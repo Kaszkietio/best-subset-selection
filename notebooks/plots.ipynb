{
 "cells": [
  {
   "cell_type": "code",
   "execution_count": null,
   "id": "a6c8afd2",
   "metadata": {},
   "outputs": [],
   "source": [
    "import os\n",
    "import pandas as pd\n",
    "import numpy as np\n",
    "import matplotlib.pyplot as plt\n",
    "\n",
    "results_path = os.path.join(os.path.dirname(os.path.realpath(\".\")), \"results\")\n"
   ]
  },
  {
   "cell_type": "code",
   "execution_count": null,
   "id": "6a766981",
   "metadata": {},
   "outputs": [],
   "source": [
    "def plot_data(df):\n",
    "    plt.subplots(1, 2, figsize=(15, 6))\n",
    "    ax = plt.subplot(1, 2, 1)\n",
    "\n",
    "    df[df[\"snr\"] == 3.0][[\"k\", \"dfo_objective\", \"warm_objective\", \"cold_objective\"]].set_index(\"k\").plot(\n",
    "        kind=\"bar\",\n",
    "        title=\"SNR = 3.0\",\n",
    "        ylabel=\"Objective Value\",\n",
    "        xlabel=\"k\",\n",
    "        figsize=(10, 6),\n",
    "        ax=ax\n",
    "    )\n",
    "    ax = plt.subplot(1, 2, 2)\n",
    "    df[df[\"snr\"] == 7.0][[\"k\", \"dfo_objective\", \"warm_objective\", \"cold_objective\"]].set_index(\"k\").plot(\n",
    "        kind=\"bar\",\n",
    "        title=\"SNR = 7.0\",\n",
    "        ylabel=\"Objective Value\",\n",
    "        xlabel=\"k\",\n",
    "        figsize=(10, 6),\n",
    "        ax=ax\n",
    "    )\n",
    "    plt.show()\n",
    "\n",
    "    betas_3 = df[df[\"snr\"] == 3.0][[\"k\", \"beta_true\", \"dfo_beta\", \"warm_beta_opt\", \"cold_beta\"]].set_index(\"k\")\n",
    "    print(\"SNR = 3.0\")\n",
    "    for col in betas_3.columns:\n",
    "        for i in betas_3[col].index:\n",
    "            print(col, i, np.nonzero([float(x) for x in betas_3[col][i][1:-1].split(', ')]))\n",
    "\n",
    "    betas_7 = df[df[\"snr\"] == 7.0][[\"k\", \"beta_true\", \"dfo_beta\", \"warm_beta_opt\", \"cold_beta\"]].set_index(\"k\")\n",
    "    print(\"\\n\\nSNR = 7.0\")\n",
    "    for col in betas_7.columns:\n",
    "        for i in betas_7[col].index:\n",
    "            print(col, i, np.nonzero([float(x) for x in betas_7[col][i][1:-1].split(', ')]))"
   ]
  },
  {
   "cell_type": "code",
   "execution_count": null,
   "id": "77ffb0f7",
   "metadata": {},
   "outputs": [],
   "source": [
    "path = os.path.join(results_path, \"upper_bound\", \"results_2_6.csv\")\n",
    "df_2_6 = pd.read_csv(path)\n",
    "df_2_6.loc[[0, 1, 2], \"snr\"] = 3.0\n",
    "df_2_6.loc[[3, 4, 5], \"snr\"] = 7.0\n",
    "plot_data(df_2_6)"
   ]
  },
  {
   "cell_type": "code",
   "execution_count": null,
   "id": "d6b85b6c",
   "metadata": {},
   "outputs": [],
   "source": [
    "path = os.path.join(results_path, \"upper_bound\", \"results_2_4.csv\")\n",
    "df_2_4 = pd.read_csv(path)\n",
    "plot_data(df_2_4)"
   ]
  },
  {
   "cell_type": "code",
   "execution_count": null,
   "id": "3c70f062",
   "metadata": {},
   "outputs": [],
   "source": []
  }
 ],
 "metadata": {
  "kernelspec": {
   "display_name": ".venv",
   "language": "python",
   "name": "python3"
  },
  "language_info": {
   "codemirror_mode": {
    "name": "ipython",
    "version": 3
   },
   "file_extension": ".py",
   "mimetype": "text/x-python",
   "name": "python",
   "nbconvert_exporter": "python",
   "pygments_lexer": "ipython3",
   "version": "3.11.3"
  }
 },
 "nbformat": 4,
 "nbformat_minor": 5
}
